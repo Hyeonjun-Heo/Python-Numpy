{
 "cells": [
  {
   "cell_type": "code",
   "execution_count": 37,
   "id": "c9bb0258",
   "metadata": {},
   "outputs": [],
   "source": [
    "import numpy as np"
   ]
  },
  {
   "cell_type": "markdown",
   "id": "cc55b3b5",
   "metadata": {},
   "source": [
    "Section 5. N차원 배열의 형태변경"
   ]
  },
  {
   "cell_type": "markdown",
   "id": "3e027bb1",
   "metadata": {},
   "source": [
    "5-1. 배열의 형태 변경1 : reshape()"
   ]
  },
  {
   "cell_type": "code",
   "execution_count": 7,
   "id": "916b84cf",
   "metadata": {},
   "outputs": [
    {
     "name": "stdout",
     "output_type": "stream",
     "text": [
      "[ 0  1  2  3  4  5  6  7  8  9 10 11] 1\n",
      "[[ 0  1  2  3]\n",
      " [ 4  5  6  7]\n",
      " [ 8  9 10 11]] 2\n",
      "[[[ 0  1]\n",
      "  [ 2  3]\n",
      "  [ 4  5]]\n",
      "\n",
      " [[ 6  7]\n",
      "  [ 8  9]\n",
      "  [10 11]]] 3\n",
      "[[[[ 0  1  2]]\n",
      "\n",
      "  [[ 3  4  5]]]\n",
      "\n",
      "\n",
      " [[[ 6  7  8]]\n",
      "\n",
      "  [[ 9 10 11]]]] 4\n"
     ]
    }
   ],
   "source": [
    "arr = np.arange(12)\n",
    "print(arr, arr.ndim)\n",
    "\n",
    "arr = arr.reshape((3,4))\n",
    "print(arr, arr.ndim)\n",
    "\n",
    "arr = arr.reshape((2,3,2))\n",
    "print(arr, arr.ndim)\n",
    "\n",
    "arr = arr.reshape((2,2,1,3))\n",
    "print(arr, arr.ndim)"
   ]
  },
  {
   "cell_type": "markdown",
   "id": "a493484f",
   "metadata": {},
   "source": [
    "5-1. 배열의 형태 변경2 : resize(), ravel()"
   ]
  },
  {
   "cell_type": "code",
   "execution_count": 24,
   "id": "f5593dfe",
   "metadata": {},
   "outputs": [
    {
     "name": "stdout",
     "output_type": "stream",
     "text": [
      "[ 0  1  2  3  4  5  6  7  8  9 10 11]\n"
     ]
    }
   ],
   "source": [
    "arr = np.arange(12)\n",
    "print(arr)"
   ]
  },
  {
   "cell_type": "code",
   "execution_count": 25,
   "id": "f68bb107",
   "metadata": {},
   "outputs": [
    {
     "name": "stdout",
     "output_type": "stream",
     "text": [
      "[[ 0  1  2  3]\n",
      " [ 4  5  6  7]\n",
      " [ 8  9 10 11]]\n",
      "[ 0  1  2  3  4  5  6  7  8  9 10 11]\n"
     ]
    }
   ],
   "source": [
    "arr.resize(3,4)  # 배열의 형태를 새로 만들어줌\n",
    "print(arr)\n",
    "\n",
    "arr = arr.ravel() # 배열의 형태를 1차원으로 다시 만듦\n",
    "print(arr)"
   ]
  },
  {
   "cell_type": "code",
   "execution_count": 15,
   "id": "bfdb191d",
   "metadata": {},
   "outputs": [
    {
     "name": "stdout",
     "output_type": "stream",
     "text": [
      "[ 1  2  3  4  5  6  7  8  9 10 11 12]\n",
      "[[ 1  2  3  4]\n",
      " [ 5  6  7  8]\n",
      " [ 9 10 11 12]]\n",
      "[[[ 1  2]\n",
      "  [ 3  4]]\n",
      "\n",
      " [[ 5  6]\n",
      "  [ 7  8]]\n",
      "\n",
      " [[ 9 10]\n",
      "  [11 12]]]\n"
     ]
    }
   ],
   "source": [
    "arr = np.arange(1, 13)\n",
    "print(arr)\n",
    "\n",
    "arr = arr.reshape(3, -1) # -1을 넣으면 컴퓨터가 자동으로 계산하여 4를 넣어줌\n",
    "print(arr)\n",
    "\n",
    "arr = arr.reshape(3,2,-1)\n",
    "print(arr)"
   ]
  },
  {
   "cell_type": "markdown",
   "id": "0ff0519d",
   "metadata": {},
   "source": [
    "5-3. 배열의 형태 변경3: expand_dims(), squeeze()"
   ]
  },
  {
   "cell_type": "code",
   "execution_count": 21,
   "id": "691505fd",
   "metadata": {},
   "outputs": [
    {
     "name": "stdout",
     "output_type": "stream",
     "text": [
      "[1 2] (2,)\n",
      "[[1]\n",
      " [2]] (2, 1)\n"
     ]
    }
   ],
   "source": [
    "# expand_dims()  하나의 차원을 생성\n",
    "arr = np.array([1,2])\n",
    "print(arr, arr.shape) \n",
    "\n",
    "arr = np.expand_dims(arr, axis=1)\n",
    "print(arr, arr.shape)"
   ]
  },
  {
   "cell_type": "code",
   "execution_count": 36,
   "id": "b2eec692",
   "metadata": {},
   "outputs": [
    {
     "name": "stdout",
     "output_type": "stream",
     "text": [
      "[[1 2]] (1, 2) 2\n",
      "[1 2] (2,) 1\n",
      "[[1]\n",
      " [2]\n",
      " [3]] (3, 1) 2\n",
      "[[[1 2 3]]] (1, 1, 3) 3\n",
      "[1 2 3] (3,) 1\n"
     ]
    }
   ],
   "source": [
    "# squeeze() 하나의 차원을 축소\n",
    "arr = np.array([[1,2]])\n",
    "print(arr, arr.shape, arr.ndim)\n",
    "\n",
    "arr = np.squeeze(arr, axis=0)\n",
    "print(arr, arr.shape, arr.ndim)\n",
    "\n",
    "arr = np.array([[[1],\n",
    "                 [2],\n",
    "                 [3]]])\n",
    "arr = np.squeeze(arr, axis=0)\n",
    "print(arr, arr.shape, arr.ndim)\n",
    "\n",
    "arr = np.array([[[1,2,3]]])\n",
    "print(arr, arr.shape, arr.ndim)\n",
    "arr = np.squeeze(arr)\n",
    "print(arr, arr.shape, arr.ndim)"
   ]
  },
  {
   "cell_type": "markdown",
   "id": "09f23f7f",
   "metadata": {},
   "source": [
    "5-4. 전치행렬(Transopse)"
   ]
  },
  {
   "cell_type": "code",
   "execution_count": 40,
   "id": "3389a2ac",
   "metadata": {},
   "outputs": [
    {
     "name": "stdout",
     "output_type": "stream",
     "text": [
      "[[1 3]\n",
      " [2 4]]\n",
      "[[1 4 7]\n",
      " [2 5 8]\n",
      " [3 6 9]]\n"
     ]
    }
   ],
   "source": [
    "arr = np.array([[1,2],\n",
    "                 [3,4]])\n",
    "print(arr.T)\n",
    "\n",
    "arr = np.array([[1,2,3],\n",
    "                [4,5,6],\n",
    "                [7,8,9]])\n",
    "print(arr.T)"
   ]
  },
  {
   "cell_type": "code",
   "execution_count": 42,
   "id": "e039ef4a",
   "metadata": {},
   "outputs": [
    {
     "name": "stdout",
     "output_type": "stream",
     "text": [
      "[[1 3 5]\n",
      " [2 4 6]]\n",
      "[[18 18]\n",
      " [24 24]]\n"
     ]
    }
   ],
   "source": [
    "arr = np.array([[1,2],\n",
    "                [3,4],\n",
    "                [5,6]])\n",
    "print(arr.T)\n",
    "\n",
    "arr2 = np.full((3,2),2)\n",
    "\n",
    "print((arr.T).dot(arr2))"
   ]
  }
 ],
 "metadata": {
  "kernelspec": {
   "display_name": "Python 3 (ipykernel)",
   "language": "python",
   "name": "python3"
  },
  "language_info": {
   "codemirror_mode": {
    "name": "ipython",
    "version": 3
   },
   "file_extension": ".py",
   "mimetype": "text/x-python",
   "name": "python",
   "nbconvert_exporter": "python",
   "pygments_lexer": "ipython3",
   "version": "3.9.13"
  }
 },
 "nbformat": 4,
 "nbformat_minor": 5
}
