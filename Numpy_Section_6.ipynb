{
 "cells": [
  {
   "cell_type": "code",
   "execution_count": 2,
   "id": "fe5b9881",
   "metadata": {},
   "outputs": [],
   "source": [
    "import numpy as np"
   ]
  },
  {
   "cell_type": "markdown",
   "id": "c49534e0",
   "metadata": {},
   "source": [
    "Section 6. N차원 배열의 병합"
   ]
  },
  {
   "cell_type": "markdown",
   "id": "afb26f8a",
   "metadata": {},
   "source": [
    "6-1. 배열에 원소 추가 및 삭제"
   ]
  },
  {
   "cell_type": "code",
   "execution_count": 5,
   "id": "023a588d",
   "metadata": {},
   "outputs": [
    {
     "name": "stdout",
     "output_type": "stream",
     "text": [
      "[1, 2, 50, 3, 4, 5, 6, 7, 8]\n",
      "[ 1  2 50  3  4  5  6  7  8]\n"
     ]
    }
   ],
   "source": [
    "# python list\n",
    "arr =[1,2,3,4,5,6,7,8]\n",
    "arr.insert(2, 50)\n",
    "print(arr)\n",
    "\n",
    "# 1차원 배열\n",
    "arr = np.arange(1,9)\n",
    "arr = np.insert(arr, 2, 50)\n",
    "print(arr)"
   ]
  },
  {
   "cell_type": "code",
   "execution_count": 9,
   "id": "1f4bcf32",
   "metadata": {},
   "outputs": [
    {
     "name": "stdout",
     "output_type": "stream",
     "text": [
      "[[ 1  2 50  3  4]\n",
      " [ 5  6 50  7  8]\n",
      " [50 50 50 50 50]\n",
      " [ 9 10 50 11 12]]\n"
     ]
    }
   ],
   "source": [
    "# 2차원 배열 \n",
    "arr = np.arange(1,13).reshape(3,4)\n",
    "arr = np.insert(arr, 2, 50, axis=0)\n",
    "arr = np.insert(arr, 2, 50, axis=1)\n",
    "print(arr)"
   ]
  },
  {
   "cell_type": "code",
   "execution_count": 15,
   "id": "597efc92",
   "metadata": {},
   "outputs": [
    {
     "name": "stdout",
     "output_type": "stream",
     "text": [
      "[[ 1  2  3  4]\n",
      " [ 5  6  7  8]\n",
      " [ 9 10 11 12]]\n",
      "[ 1  2  4  5  6  7  8  9 10 11 12]\n"
     ]
    }
   ],
   "source": [
    "# delete()  ''' insert() 함수와 같이 axis값을 주지 않으면 1차원 배열로 변경해서 반환함'''\n",
    "arr = np.arange(1,13).reshape(3,4)\n",
    "print(arr)\n",
    "\n",
    "arr = np.delete(arr, 2)\n",
    "print(arr)"
   ]
  },
  {
   "cell_type": "markdown",
   "id": "68e1ea9a",
   "metadata": {},
   "source": [
    "6-2. 배열 간의 병합"
   ]
  },
  {
   "cell_type": "code",
   "execution_count": 21,
   "id": "81c77096",
   "metadata": {},
   "outputs": [
    {
     "name": "stdout",
     "output_type": "stream",
     "text": [
      "[[ 1  2  3  4]\n",
      " [ 5  6  7  8]\n",
      " [ 9 10 11 12]]\n",
      "[[13 14 15 16]\n",
      " [17 18 19 20]\n",
      " [21 22 23 24]]\n",
      "\n",
      "[[ 1  2  3  4]\n",
      " [ 5  6  7  8]\n",
      " [ 9 10 11 12]\n",
      " [13 14 15 16]\n",
      " [17 18 19 20]\n",
      " [21 22 23 24]]\n",
      "\n",
      "[[ 1  2  3  4 13 14 15 16]\n",
      " [ 5  6  7  8 17 18 19 20]\n",
      " [ 9 10 11 12 21 22 23 24]]\n",
      "\n"
     ]
    }
   ],
   "source": [
    "# append()\n",
    "arr1 = np.arange(1,13).reshape(3,4)\n",
    "arr2 = np.arange(13,25).reshape(3,4)\n",
    "\n",
    "print(arr1)\n",
    "print(arr2, end=\"\\n\\n\")\n",
    "\n",
    "# axis=0\n",
    "arr3 = np.append(arr1, arr2, axis=0)\n",
    "print(arr3, end=\"\\n\\n\")\n",
    "\n",
    "# axis=1\n",
    "arr3 = np.append(arr1, arr2, axis=1)\n",
    "print(arr3, end=\"\\n\\n\")\n",
    "\n",
    "# axis값이 없으면 1차원으로 변경하여 반환함"
   ]
  },
  {
   "cell_type": "code",
   "execution_count": 24,
   "id": "cbb14fd9",
   "metadata": {},
   "outputs": [
    {
     "name": "stdout",
     "output_type": "stream",
     "text": [
      "[[ 1  2  3]\n",
      " [ 4  5  6]\n",
      " [ 7  8  9]\n",
      " [10 11 12]]\n",
      "[[ 1  2  3  7  8  9]\n",
      " [ 4  5  6 10 11 12]]\n"
     ]
    }
   ],
   "source": [
    "# vstack(), hstack()\n",
    "\n",
    "arr1 = np.arange(1,7).reshape(2,3)\n",
    "arr2 = np.arange(7,13).reshape(2,3)\n",
    "\n",
    "arr3 = np.vstack((arr1,arr2))\n",
    "print(arr3)\n",
    "\n",
    "arr3 = np.hstack((arr1,arr2))\n",
    "print(arr3)"
   ]
  },
  {
   "cell_type": "code",
   "execution_count": 3,
   "id": "cfd660c2",
   "metadata": {},
   "outputs": [
    {
     "name": "stdout",
     "output_type": "stream",
     "text": [
      "[[ 1  2  3  7  8  9]\n",
      " [ 4  5  6 10 11 12]]\n"
     ]
    }
   ],
   "source": [
    "# concatenate()\n",
    "arr1 = np.arange(1,7).reshape(2,3)\n",
    "arr2 = np.arange(7,13).reshape(2,3)\n",
    "\n",
    "arr3 = np.concatenate([arr1,arr2], axis=1)\n",
    "print(arr3)"
   ]
  },
  {
   "cell_type": "markdown",
   "id": "60218a98",
   "metadata": {},
   "source": [
    "6-3. 배열 분할"
   ]
  },
  {
   "cell_type": "code",
   "execution_count": 5,
   "id": "c135e48c",
   "metadata": {},
   "outputs": [
    {
     "name": "stdout",
     "output_type": "stream",
     "text": [
      "[[ 1  2  3  4]\n",
      " [ 5  6  7  8]\n",
      " [ 9 10 11 12]]\n",
      "[array([[1, 2, 3, 4]]), array([[5, 6, 7, 8]]), array([[ 9, 10, 11, 12]])]\n",
      "[array([[ 1,  2],\n",
      "       [ 5,  6],\n",
      "       [ 9, 10]]), array([[ 3,  4],\n",
      "       [ 7,  8],\n",
      "       [11, 12]])]\n"
     ]
    }
   ],
   "source": [
    "# 2차원 배열\n",
    "arr = np.arange(1,13).reshape(3,4)\n",
    "print(arr)\n",
    "\n",
    "# vsplit() => axis=0\n",
    "arr_vsplit = np.vsplit(arr, 3)\n",
    "print(arr_vsplit)\n",
    "\n",
    "# hsplit() => axis=1\n",
    "arr_hsplit = np.hsplit(arr,2)\n",
    "print(arr_hsplit)"
   ]
  },
  {
   "cell_type": "code",
   "execution_count": 3,
   "id": "4f5190e2",
   "metadata": {},
   "outputs": [
    {
     "name": "stdout",
     "output_type": "stream",
     "text": [
      "[[[5 3 5 3 4 6 4 7]\n",
      "  [1 4 8 2 9 2 9 7]\n",
      "  [1 3 2 8 6 3 7 3]\n",
      "  [8 1 5 5 1 0 5 7]\n",
      "  [6 0 9 6 3 8 2 3]\n",
      "  [0 3 3 3 1 1 8 0]]\n",
      "\n",
      " [[5 9 0 8 2 1 9 2]\n",
      "  [1 0 9 1 3 9 2 5]\n",
      "  [5 3 3 2 7 2 7 2]\n",
      "  [5 2 0 1 8 8 2 6]\n",
      "  [9 0 2 9 7 1 0 7]\n",
      "  [2 4 8 1 5 7 6 1]]\n",
      "\n",
      " [[7 3 8 8 9 7 7 8]\n",
      "  [1 9 2 2 0 2 2 1]\n",
      "  [6 1 8 0 9 6 4 9]\n",
      "  [0 5 3 0 6 3 4 4]\n",
      "  [0 5 4 5 9 9 8 2]\n",
      "  [9 5 0 4 4 5 5 0]]\n",
      "\n",
      " [[9 3 2 8 6 4 1 8]\n",
      "  [4 3 4 9 9 0 9 9]\n",
      "  [0 3 9 6 0 1 6 2]\n",
      "  [1 2 0 9 3 1 5 7]\n",
      "  [0 2 8 3 7 3 5 0]\n",
      "  [2 0 6 2 9 5 0 0]]]\n"
     ]
    }
   ],
   "source": [
    "# 3차원 배열\n",
    "arr = np.random.randint(0, 10, (4,6,8))\n",
    "print(arr)"
   ]
  },
  {
   "cell_type": "code",
   "execution_count": 10,
   "id": "8f130528",
   "metadata": {},
   "outputs": [
    {
     "name": "stdout",
     "output_type": "stream",
     "text": [
      "[array([[[4, 1, 1, 0, 0, 3, 1, 1],\n",
      "        [3, 5, 3, 3, 5, 3, 9, 4],\n",
      "        [2, 8, 2, 8, 1, 4, 4, 1],\n",
      "        [7, 0, 8, 3, 6, 9, 5, 0],\n",
      "        [6, 6, 1, 8, 0, 0, 6, 3],\n",
      "        [4, 7, 9, 7, 9, 8, 1, 8]],\n",
      "\n",
      "       [[9, 0, 6, 4, 1, 3, 4, 1],\n",
      "        [4, 0, 7, 9, 6, 3, 9, 5],\n",
      "        [4, 3, 1, 2, 7, 8, 5, 0],\n",
      "        [5, 0, 9, 0, 4, 3, 5, 8],\n",
      "        [1, 0, 5, 2, 9, 7, 3, 4],\n",
      "        [1, 0, 6, 9, 4, 6, 7, 9]]]), array([[[9, 2, 2, 9, 3, 6, 2, 5],\n",
      "        [4, 7, 9, 2, 9, 2, 4, 6],\n",
      "        [4, 4, 9, 3, 1, 5, 4, 1],\n",
      "        [0, 2, 3, 1, 5, 5, 6, 2],\n",
      "        [7, 8, 2, 4, 3, 5, 7, 4],\n",
      "        [2, 4, 5, 7, 6, 4, 1, 2]],\n",
      "\n",
      "       [[7, 0, 7, 1, 7, 7, 7, 9],\n",
      "        [5, 1, 5, 4, 4, 0, 4, 5],\n",
      "        [5, 3, 2, 3, 3, 2, 4, 0],\n",
      "        [8, 8, 7, 7, 9, 9, 3, 1],\n",
      "        [4, 0, 1, 4, 1, 0, 9, 0],\n",
      "        [7, 6, 3, 0, 5, 7, 1, 4]]])]\n"
     ]
    }
   ],
   "source": [
    "arr_vsplit = np.vsplit(arr,2)\n",
    "print(arr_vsplit)"
   ]
  },
  {
   "cell_type": "code",
   "execution_count": 5,
   "id": "79ae90f6",
   "metadata": {},
   "outputs": [
    {
     "name": "stdout",
     "output_type": "stream",
     "text": [
      "[array([[[5, 3, 5, 3, 4, 6, 4, 7],\n",
      "        [1, 4, 8, 2, 9, 2, 9, 7],\n",
      "        [1, 3, 2, 8, 6, 3, 7, 3]],\n",
      "\n",
      "       [[5, 9, 0, 8, 2, 1, 9, 2],\n",
      "        [1, 0, 9, 1, 3, 9, 2, 5],\n",
      "        [5, 3, 3, 2, 7, 2, 7, 2]],\n",
      "\n",
      "       [[7, 3, 8, 8, 9, 7, 7, 8],\n",
      "        [1, 9, 2, 2, 0, 2, 2, 1],\n",
      "        [6, 1, 8, 0, 9, 6, 4, 9]],\n",
      "\n",
      "       [[9, 3, 2, 8, 6, 4, 1, 8],\n",
      "        [4, 3, 4, 9, 9, 0, 9, 9],\n",
      "        [0, 3, 9, 6, 0, 1, 6, 2]]]), array([[[8, 1, 5, 5, 1, 0, 5, 7],\n",
      "        [6, 0, 9, 6, 3, 8, 2, 3],\n",
      "        [0, 3, 3, 3, 1, 1, 8, 0]],\n",
      "\n",
      "       [[5, 2, 0, 1, 8, 8, 2, 6],\n",
      "        [9, 0, 2, 9, 7, 1, 0, 7],\n",
      "        [2, 4, 8, 1, 5, 7, 6, 1]],\n",
      "\n",
      "       [[0, 5, 3, 0, 6, 3, 4, 4],\n",
      "        [0, 5, 4, 5, 9, 9, 8, 2],\n",
      "        [9, 5, 0, 4, 4, 5, 5, 0]],\n",
      "\n",
      "       [[1, 2, 0, 9, 3, 1, 5, 7],\n",
      "        [0, 2, 8, 3, 7, 3, 5, 0],\n",
      "        [2, 0, 6, 2, 9, 5, 0, 0]]])]\n"
     ]
    }
   ],
   "source": [
    "arr_hsplit = np.hsplit(arr,2)\n",
    "print(arr_hsplit)"
   ]
  }
 ],
 "metadata": {
  "kernelspec": {
   "display_name": "Python 3 (ipykernel)",
   "language": "python",
   "name": "python3"
  },
  "language_info": {
   "codemirror_mode": {
    "name": "ipython",
    "version": 3
   },
   "file_extension": ".py",
   "mimetype": "text/x-python",
   "name": "python",
   "nbconvert_exporter": "python",
   "pygments_lexer": "ipython3",
   "version": "3.9.13"
  }
 },
 "nbformat": 4,
 "nbformat_minor": 5
}
