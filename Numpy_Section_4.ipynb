{
 "cells": [
  {
   "cell_type": "code",
   "execution_count": 2,
   "id": "831712eb",
   "metadata": {},
   "outputs": [],
   "source": [
    "import numpy as np"
   ]
  },
  {
   "cell_type": "markdown",
   "id": "47c4a36b",
   "metadata": {},
   "source": [
    "Section 4. N차원 배열 정렬"
   ]
  },
  {
   "cell_type": "markdown",
   "id": "1f9bb0e4",
   "metadata": {},
   "source": [
    "4-1. 1차원 배열의 정렬"
   ]
  },
  {
   "cell_type": "code",
   "execution_count": 3,
   "id": "21e8f4c1",
   "metadata": {},
   "outputs": [
    {
     "name": "stdout",
     "output_type": "stream",
     "text": [
      "[5 6 1 8 6 3 7 5 6 8]\n"
     ]
    }
   ],
   "source": [
    "arr = np.random.randint(10, size=10)\n",
    "print(arr)"
   ]
  },
  {
   "cell_type": "code",
   "execution_count": 6,
   "id": "ee97697b",
   "metadata": {},
   "outputs": [
    {
     "name": "stdout",
     "output_type": "stream",
     "text": [
      "[1 3 5 5 6 6 6 7 8 8]\n",
      "[8 8 7 6 6 6 5 5 3 1]\n"
     ]
    }
   ],
   "source": [
    "print(np.sort(arr))\n",
    "print(np.sort(arr)[::-1])"
   ]
  },
  {
   "cell_type": "code",
   "execution_count": 8,
   "id": "396c1aec",
   "metadata": {},
   "outputs": [
    {
     "name": "stdout",
     "output_type": "stream",
     "text": [
      "[1 3 5 5 6 6 6 7 8 8]\n"
     ]
    }
   ],
   "source": [
    "arr = np.sort(arr)\n",
    "arr.sort()\n",
    "print(arr)"
   ]
  },
  {
   "cell_type": "markdown",
   "id": "ce96dd0b",
   "metadata": {},
   "source": [
    "4-2. 2차원 배열의 정렬"
   ]
  },
  {
   "cell_type": "code",
   "execution_count": 9,
   "id": "512e23b0",
   "metadata": {},
   "outputs": [
    {
     "name": "stdout",
     "output_type": "stream",
     "text": [
      "[[6 4 7 4]\n",
      " [1 9 2 1]\n",
      " [4 6 2 1]]\n"
     ]
    }
   ],
   "source": [
    "arr = np.random.randint(15, size=(3,4))\n",
    "print(arr)"
   ]
  },
  {
   "cell_type": "code",
   "execution_count": 12,
   "id": "23b73bf8",
   "metadata": {},
   "outputs": [
    {
     "name": "stdout",
     "output_type": "stream",
     "text": [
      "[1 1 1 2 2 4 4 4 6 6 7 9]\n"
     ]
    }
   ],
   "source": [
    "print(np.sort(arr, axis=None))"
   ]
  },
  {
   "cell_type": "code",
   "execution_count": 14,
   "id": "0b8c3c63",
   "metadata": {},
   "outputs": [
    {
     "name": "stdout",
     "output_type": "stream",
     "text": [
      "[[1 4 2 1]\n",
      " [4 6 2 1]\n",
      " [6 9 7 4]]\n",
      "[[1 0 1 1]\n",
      " [2 2 2 2]\n",
      " [0 1 0 0]]\n"
     ]
    }
   ],
   "source": [
    "# argsort()\n",
    "print(np.sort(arr, axis=0))\n",
    "print(np.argsort(arr, axis=0))"
   ]
  }
 ],
 "metadata": {
  "kernelspec": {
   "display_name": "Python 3 (ipykernel)",
   "language": "python",
   "name": "python3"
  },
  "language_info": {
   "codemirror_mode": {
    "name": "ipython",
    "version": 3
   },
   "file_extension": ".py",
   "mimetype": "text/x-python",
   "name": "python",
   "nbconvert_exporter": "python",
   "pygments_lexer": "ipython3",
   "version": "3.9.13"
  }
 },
 "nbformat": 4,
 "nbformat_minor": 5
}
