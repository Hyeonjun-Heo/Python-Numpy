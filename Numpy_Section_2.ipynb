{
 "cells": [
  {
   "cell_type": "code",
   "execution_count": 2,
   "id": "5badcb54",
   "metadata": {},
   "outputs": [],
   "source": [
    "import numpy as np"
   ]
  },
  {
   "cell_type": "markdown",
   "id": "c5305531",
   "metadata": {},
   "source": [
    "Section2. N차원 배열 인덱싱"
   ]
  },
  {
   "cell_type": "code",
   "execution_count": 9,
   "id": "b7347b64",
   "metadata": {},
   "outputs": [
    {
     "name": "stdout",
     "output_type": "stream",
     "text": [
      "[0 1 2 3 4 5 6 7 8 9]\n",
      "3\n",
      "1\n",
      "7\n",
      "0\n"
     ]
    }
   ],
   "source": [
    "# 1차원 배열\n",
    "arr = np.array([0,1,2,3,4,5,6,7,8,9])\n",
    "arr = np.arange(10)\n",
    "print(arr)\n",
    "\n",
    "print(arr[3])\n",
    "print(arr[1])\n",
    "print(arr[-3])\n",
    "print(arr[-10])"
   ]
  },
  {
   "cell_type": "code",
   "execution_count": 13,
   "id": "f9d4fbd5",
   "metadata": {},
   "outputs": [
    {
     "name": "stdout",
     "output_type": "stream",
     "text": [
      "[[ 1  2  3  4]\n",
      " [ 5  6  7  8]\n",
      " [ 9 10 11 12]] (3, 4) 2\n",
      "4\n"
     ]
    }
   ],
   "source": [
    "# 2차원 배열 \n",
    "arr = np.array ([[1,2,3,4],[5,6,7,8],[9,10,11,12]])\n",
    "print(arr, arr.shape, arr.ndim)\n",
    "print(arr[0,3])"
   ]
  },
  {
   "cell_type": "code",
   "execution_count": 19,
   "id": "78ecb205",
   "metadata": {},
   "outputs": [
    {
     "name": "stdout",
     "output_type": "stream",
     "text": [
      "[3 4 5 6 7]\n",
      "[3 4 5 6 7 8 9]\n",
      "[0 1 2 3 4 5 6]\n",
      "[0 1 2 3 4 5 6 7 8]\n"
     ]
    }
   ],
   "source": [
    "arr = np.array([0,1,2,3,4,5,6,7,8,9])\n",
    "print(arr[3:8])\n",
    "print(arr[3:])\n",
    "print(arr[:7])\n",
    "print(arr[:-1])"
   ]
  },
  {
   "cell_type": "code",
   "execution_count": 22,
   "id": "ab43dc63",
   "metadata": {},
   "outputs": [
    {
     "name": "stdout",
     "output_type": "stream",
     "text": [
      "[1 2 3 4]\n",
      "[ 2  6 10]\n"
     ]
    }
   ],
   "source": [
    "arr = np.array ([[1,2,3,4],[5,6,7,8],[9,10,11,12]])\n",
    "\n",
    "print(arr[0, :])\n",
    "print(arr[:, 1])"
   ]
  },
  {
   "cell_type": "code",
   "execution_count": 24,
   "id": "1fb4d2a5",
   "metadata": {},
   "outputs": [
    {
     "name": "stdout",
     "output_type": "stream",
     "text": [
      "[[ 1  2  3  4]\n",
      " [ 5  6  7  8]\n",
      " [ 9 10 11 12]]\n",
      "[[3 4]\n",
      " [7 8]]\n"
     ]
    }
   ],
   "source": [
    "print(arr[:3, :])\n",
    "print(arr[:2, 2:])"
   ]
  },
  {
   "cell_type": "markdown",
   "id": "99885dcc",
   "metadata": {},
   "source": [
    "2-2. 배열의 Fancy 인덱싱"
   ]
  },
  {
   "cell_type": "code",
   "execution_count": 25,
   "id": "c593d40c",
   "metadata": {},
   "outputs": [
    {
     "name": "stdout",
     "output_type": "stream",
     "text": [
      "[ 5 15 25]\n"
     ]
    }
   ],
   "source": [
    "# 1차원 배열\n",
    "arr = np.array([5,10,15,20,25,30])\n",
    "print(arr[[0,2,4]])"
   ]
  },
  {
   "cell_type": "code",
   "execution_count": 29,
   "id": "adb3c948",
   "metadata": {},
   "outputs": [
    {
     "name": "stdout",
     "output_type": "stream",
     "text": [
      "[[15 20]\n",
      " [55 60]]\n",
      "[[25 40]\n",
      " [55 60]]\n"
     ]
    }
   ],
   "source": [
    "# 2차원 배열\n",
    "arr = np.array([[5,10,15,20],[25,30,25,40],[45,50,55,60]])\n",
    "print(arr[[0,2], 2:])\n",
    "print(arr[1:,[2,3]])"
   ]
  },
  {
   "cell_type": "markdown",
   "id": "7391e54c",
   "metadata": {},
   "source": [
    "2-3. 배열의 Boolean 인덱싱"
   ]
  },
  {
   "cell_type": "code",
   "execution_count": 33,
   "id": "7b569997",
   "metadata": {},
   "outputs": [
    {
     "name": "stdout",
     "output_type": "stream",
     "text": [
      "[1 3 4]\n",
      "[[1 2 3 4]]\n"
     ]
    }
   ],
   "source": [
    "arr = np.array([1,2,3,4])\n",
    "print(arr[[True, False, True, True]])\n",
    "\n",
    "arr = np.array([[1,2,3,4],[5,6,7,8]])\n",
    "print(arr[[True, False], True])"
   ]
  },
  {
   "cell_type": "code",
   "execution_count": 36,
   "id": "12e23434",
   "metadata": {},
   "outputs": [
    {
     "name": "stdout",
     "output_type": "stream",
     "text": [
      "[4 5 6 7 8]\n",
      "[1 2]\n"
     ]
    }
   ],
   "source": [
    "arr = np.array([[1,2,3,4],[5,6,7,8]])\n",
    "print(arr[arr>3])\n",
    "print(arr[arr<=2])"
   ]
  }
 ],
 "metadata": {
  "kernelspec": {
   "display_name": "Python 3 (ipykernel)",
   "language": "python",
   "name": "python3"
  },
  "language_info": {
   "codemirror_mode": {
    "name": "ipython",
    "version": 3
   },
   "file_extension": ".py",
   "mimetype": "text/x-python",
   "name": "python",
   "nbconvert_exporter": "python",
   "pygments_lexer": "ipython3",
   "version": "3.9.13"
  }
 },
 "nbformat": 4,
 "nbformat_minor": 5
}
