{
 "cells": [
  {
   "cell_type": "markdown",
   "id": "9984d862",
   "metadata": {},
   "source": [
    "34. How to get all the dates corresponding to the month of July 2016? (★★☆)"
   ]
  },
  {
   "cell_type": "code",
   "execution_count": 1,
   "id": "69d86286",
   "metadata": {},
   "outputs": [
    {
     "name": "stdout",
     "output_type": "stream",
     "text": [
      "['2016-07-01' '2016-07-02' '2016-07-03' '2016-07-04' '2016-07-05'\n",
      " '2016-07-06' '2016-07-07' '2016-07-08' '2016-07-09' '2016-07-10'\n",
      " '2016-07-11' '2016-07-12' '2016-07-13' '2016-07-14' '2016-07-15'\n",
      " '2016-07-16' '2016-07-17' '2016-07-18' '2016-07-19' '2016-07-20'\n",
      " '2016-07-21' '2016-07-22' '2016-07-23' '2016-07-24' '2016-07-25'\n",
      " '2016-07-26' '2016-07-27' '2016-07-28' '2016-07-29' '2016-07-30'\n",
      " '2016-07-31']\n"
     ]
    }
   ],
   "source": [
    "import numpy as np\n",
    "\n",
    "arr = np.arange('2016-07', '2016-08', dtype='datetime64[D]')\n",
    "print(arr)"
   ]
  },
  {
   "cell_type": "markdown",
   "id": "b6435f29",
   "metadata": {},
   "source": [
    "35. How to compute ((A+B)*(-A/2)) in place (without copy)? (★★☆)"
   ]
  },
  {
   "cell_type": "code",
   "execution_count": 15,
   "id": "f6134cc9",
   "metadata": {},
   "outputs": [
    {
     "name": "stdout",
     "output_type": "stream",
     "text": [
      "[-1.5 -1.5 -1.5]\n"
     ]
    }
   ],
   "source": [
    "A = np.ones(3)*1\n",
    "B = np.ones(3)*2\n",
    "np.add(A,B,out=B) # 결과를 B에 저장합니다. [3,3,3]\n",
    "np.divide(A,2, out=A) # A를 2로 나눈 결과를 A에 저장합니다. [0.5, 0.5, 0.5]\n",
    "np.negative(A, out=A) # A에 -1을 곱한 결과를 A에 저장합니다. [-0.5, -0.5, -0.5]\n",
    "np.multiply(A,B, out = A)\n",
    "print(A)"
   ]
  },
  {
   "cell_type": "markdown",
   "id": "4fbd5342",
   "metadata": {},
   "source": [
    "36. Extract the integer part of a random array of positive numbers using 4 different methods (★★☆)"
   ]
  },
  {
   "cell_type": "code",
   "execution_count": 17,
   "id": "1395c258",
   "metadata": {},
   "outputs": [
    {
     "name": "stdout",
     "output_type": "stream",
     "text": [
      "[2. 2. 8. 5. 6. 2. 5. 5. 5. 3.]\n",
      "[2. 2. 8. 5. 6. 2. 5. 5. 5. 3.]\n",
      "[2. 2. 8. 5. 6. 2. 5. 5. 5. 3.]\n",
      "[2 2 8 5 6 2 5 5 5 3]\n",
      "[2. 2. 8. 5. 6. 2. 5. 5. 5. 3.]\n"
     ]
    }
   ],
   "source": [
    "arr = np.random.uniform(0,10,10) # 넘파이 균등분포 랜덤으로 만들기 (최소 0, 최대 10, 10개 생성)\n",
    "\n",
    "# 넘파이 함수를 통해 정수부분만 추출하는 여러가지 방법\n",
    "print(arr - arr%1)\n",
    "print(arr // 1)\n",
    "print(np.floor(arr))\n",
    "print(arr.astype(int))\n",
    "print(np.trunc(arr))"
   ]
  },
  {
   "cell_type": "markdown",
   "id": "d154af07",
   "metadata": {},
   "source": [
    "37. Create a 5x5 matrix with row values ranging from 0 to 4 (★★☆)"
   ]
  },
  {
   "cell_type": "code",
   "execution_count": 3,
   "id": "350f2342",
   "metadata": {},
   "outputs": [
    {
     "name": "stdout",
     "output_type": "stream",
     "text": [
      "[[0. 1. 2. 3. 4.]\n",
      " [0. 1. 2. 3. 4.]\n",
      " [0. 1. 2. 3. 4.]\n",
      " [0. 1. 2. 3. 4.]\n",
      " [0. 1. 2. 3. 4.]]\n"
     ]
    }
   ],
   "source": [
    "import numpy as np\n",
    "Z = np.zeros((5,5))\n",
    "Z += np.arange(5)\n",
    "print(Z)"
   ]
  },
  {
   "cell_type": "markdown",
   "id": "2888fb3c",
   "metadata": {},
   "source": [
    "38. Consider a generator function that generates 10 integers and use it to build an array (★☆☆)"
   ]
  },
  {
   "cell_type": "code",
   "execution_count": 5,
   "id": "bed580ae",
   "metadata": {},
   "outputs": [
    {
     "name": "stdout",
     "output_type": "stream",
     "text": [
      "[0. 1. 2. 3. 4. 5. 6. 7. 8. 9.]\n"
     ]
    }
   ],
   "source": [
    "def integer():\n",
    "    for x in range(10):\n",
    "        yield x  # return 과 yield의 차이점은 모든 결과 값을 한번에 메모리에 올려놓는 return, 결과값을 하나씩 메모리에 올려놓는 yield.\n",
    "                 # 성능 측면에서 yield가 상당히 좋다.\n",
    "arr = np.fromiter(integer(), dtype=float, count=-1) # np.fromiter(순환할 수 있는 객체, 데이터 타입, 객체에서 읽어올 맴버의 개수)\n",
    "                                                    # np.fromiter() 는 순환할 수 있는 구조를 가지는 데이터를 기반으로 1차원 배열을 생성\n",
    "print(arr)"
   ]
  },
  {
   "cell_type": "markdown",
   "id": "2c8c2f28",
   "metadata": {},
   "source": [
    "39. Create a vector of size 10 with values ranging from 0 to 1, both excluded (★★☆)"
   ]
  },
  {
   "cell_type": "code",
   "execution_count": 6,
   "id": "0ebdc713",
   "metadata": {},
   "outputs": [
    {
     "name": "stdout",
     "output_type": "stream",
     "text": [
      "[0.09090909 0.18181818 0.27272727 0.36363636 0.45454545 0.54545455\n",
      " 0.63636364 0.72727273 0.81818182 0.90909091]\n"
     ]
    }
   ],
   "source": [
    "arr = np.linspace(0, 1, 11, endpoint=False)[1:] # np.linspace(시작점, 끝점, 숫자 개수, (끝점 포함,불포함)) 구간내 숫자를 채워주는 함수\n",
    "print(arr)"
   ]
  },
  {
   "cell_type": "markdown",
   "id": "6d2d015d",
   "metadata": {},
   "source": [
    "40. Create a random vector of size 10 and sort it (★★☆)"
   ]
  },
  {
   "cell_type": "code",
   "execution_count": 8,
   "id": "a7fa6082",
   "metadata": {},
   "outputs": [
    {
     "name": "stdout",
     "output_type": "stream",
     "text": [
      "[0.06012056 0.15221944 0.16410361 0.46747524 0.71813139 0.78163898\n",
      " 0.84493667 0.89851459 0.94185961 0.96115687]\n"
     ]
    }
   ],
   "source": [
    "arr = np.random.random(10)\n",
    "arr.sort()\n",
    "print(arr)"
   ]
  },
  {
   "cell_type": "markdown",
   "id": "8f823110",
   "metadata": {},
   "source": [
    "41. How to sum a small array faster than np.sum? (★★☆)"
   ]
  },
  {
   "cell_type": "code",
   "execution_count": 10,
   "id": "c3c11b7f",
   "metadata": {},
   "outputs": [
    {
     "name": "stdout",
     "output_type": "stream",
     "text": [
      "15\n"
     ]
    }
   ],
   "source": [
    "arr = np.array([1,2,3,4,5])\n",
    "result = arr.sum(axis=None) # Python에서 기본적으로 제공하는 sum() 함수에 axis를 None으로 설정해주면 가장 빠르게 1차원 배열을 계산합니다.\n",
    "print(result)"
   ]
  },
  {
   "cell_type": "markdown",
   "id": "3fbdbe10",
   "metadata": {},
   "source": [
    "42. Consider two random array A and B, check if they are equal (★★☆)"
   ]
  },
  {
   "cell_type": "code",
   "execution_count": 4,
   "id": "2a037646",
   "metadata": {},
   "outputs": [
    {
     "name": "stdout",
     "output_type": "stream",
     "text": [
      "False\n"
     ]
    }
   ],
   "source": [
    "arr1 = np.random.randint(0,2,5)\n",
    "arr2 = np.random.randint(0,2,5)\n",
    "#equal = np.array_equal(arr1, arr2) # np.array_equal 두개의 Numpy 배열이 같은 형상이고, 같은 원소들 값인지 확인.\n",
    "equal = np.allclose(arr1, arr2) # \n",
    "print(equal)"
   ]
  },
  {
   "cell_type": "markdown",
   "id": "5664ee5b",
   "metadata": {},
   "source": [
    "np.allclose(a, b, rtol=1e-05, atol=1e-08, equal_nan=Flase) 는 a와 b가 근사적으로 값이 같은지 확인하는 함수입니다. \n",
    "rtol(상대 오차)는 절대값이 큰 값에 대해 상대적으로 허용되는 오차를 의미하며, atol은 절대값이 작은 값에 대해 절대적으로 허용되는 오차를 의미합니다.\n",
    "equal_nan=True로 설정하면 Nan값도 같은 것으로 간주합니다.\n",
    "이 함수는 a와 b의 shape가 같을 때 사용 가능합니다."
   ]
  },
  {
   "cell_type": "markdown",
   "id": "7e6407ee",
   "metadata": {},
   "source": [
    "43. Make an array immutable (read-only) (★★☆)"
   ]
  },
  {
   "cell_type": "code",
   "execution_count": 9,
   "id": "512cb701",
   "metadata": {},
   "outputs": [
    {
     "ename": "ValueError",
     "evalue": "assignment destination is read-only",
     "output_type": "error",
     "traceback": [
      "\u001b[1;31m---------------------------------------------------------------------------\u001b[0m",
      "\u001b[1;31mValueError\u001b[0m                                Traceback (most recent call last)",
      "\u001b[1;32m~\\AppData\\Local\\Temp\\ipykernel_18544\\2621765374.py\u001b[0m in \u001b[0;36m<module>\u001b[1;34m\u001b[0m\n\u001b[0;32m      1\u001b[0m \u001b[0marr\u001b[0m \u001b[1;33m=\u001b[0m \u001b[0mnp\u001b[0m\u001b[1;33m.\u001b[0m\u001b[0mzeros\u001b[0m\u001b[1;33m(\u001b[0m\u001b[1;36m10\u001b[0m\u001b[1;33m)\u001b[0m\u001b[1;33m\u001b[0m\u001b[1;33m\u001b[0m\u001b[0m\n\u001b[0;32m      2\u001b[0m \u001b[0marr\u001b[0m\u001b[1;33m.\u001b[0m\u001b[0mflags\u001b[0m\u001b[1;33m.\u001b[0m\u001b[0mwriteable\u001b[0m \u001b[1;33m=\u001b[0m \u001b[1;32mFalse\u001b[0m\u001b[1;33m\u001b[0m\u001b[1;33m\u001b[0m\u001b[0m\n\u001b[1;32m----> 3\u001b[1;33m \u001b[0marr\u001b[0m\u001b[1;33m[\u001b[0m\u001b[1;36m0\u001b[0m\u001b[1;33m]\u001b[0m \u001b[1;33m=\u001b[0m \u001b[1;36m1\u001b[0m\u001b[1;33m\u001b[0m\u001b[1;33m\u001b[0m\u001b[0m\n\u001b[0m",
      "\u001b[1;31mValueError\u001b[0m: assignment destination is read-only"
     ]
    }
   ],
   "source": [
    "arr = np.zeros(10)\n",
    "arr.flags.writeable = False\n",
    "arr[0] = 1"
   ]
  },
  {
   "cell_type": "markdown",
   "id": "13a20fcb",
   "metadata": {},
   "source": [
    "불변 배열은 더 이상 값을 수정 할 수 없으며, 새로운 배열을 생성해야합니다.\n",
    "배열을 불변으로 만드는 방법은 arr.flags.writeable 인자를 False로 설정하면 됩니다.\n",
    "flags.writeable 는 배열의 값을 변경할 수 있는지 여부를 나타내는 값입니다."
   ]
  },
  {
   "cell_type": "markdown",
   "id": "ea7f3c85",
   "metadata": {},
   "source": [
    "44. Consider a random 10x2 matrix representing cartesian coordinates, convert them to polar coordinates (★★☆) *"
   ]
  },
  {
   "cell_type": "code",
   "execution_count": 13,
   "id": "31eb6b22",
   "metadata": {},
   "outputs": [
    {
     "name": "stdout",
     "output_type": "stream",
     "text": [
      "[0.82143532 0.91978513 0.7310624  0.57595957 0.56013412 0.86182254\n",
      " 0.89210229 0.628206   0.98454772 0.78562837]\n",
      "[0.06985364 0.87499413 0.16230932 0.8356887  0.38235694 0.55005658\n",
      " 0.99494532 0.05025673 0.29341427 0.03367384]\n"
     ]
    }
   ],
   "source": [
    "arr = np.random.random((10,2))\n",
    "x,y = arr[:,0], arr[:,1]\n",
    "r = np.sqrt(x**2 + y**2)\n",
    "t = np.arctan2(y, x)\n",
    "print(x)\n",
    "print(y)"
   ]
  },
  {
   "cell_type": "markdown",
   "id": "8e09c97a",
   "metadata": {},
   "source": [
    "45. Create random vector of size 10 and replace the maximum value by 0 (★★☆)"
   ]
  },
  {
   "cell_type": "code",
   "execution_count": 16,
   "id": "77d2022f",
   "metadata": {},
   "outputs": [
    {
     "name": "stdout",
     "output_type": "stream",
     "text": [
      "[0.14453967 0.5019493  0.62018351 0.36910243 0.         0.775515\n",
      " 0.28888488 0.17025507 0.1707542  0.11278934]\n"
     ]
    }
   ],
   "source": [
    "arr = np.random.random(10)\n",
    "arr[arr.argmax()]=0 # arr.argmax()는 배열에서 가장 큰 값의 인덱스를 반환합니다. arr[arr.argmax()]=0은 배열에서 가장 큰 값을 0으로 바꿔줍니다.\n",
    "print(arr)"
   ]
  },
  {
   "cell_type": "markdown",
   "id": "aa766f81",
   "metadata": {},
   "source": [
    " 46. Create a structured array with `x` and `y` coordinates covering the [0,1]x[0,1] area (★★☆)"
   ]
  },
  {
   "cell_type": "code",
   "execution_count": 22,
   "id": "b77b32c6",
   "metadata": {},
   "outputs": [
    {
     "name": "stdout",
     "output_type": "stream",
     "text": [
      "[[(0.  , 0.  ) (0.25, 0.  ) (0.5 , 0.  ) (0.75, 0.  ) (1.  , 0.  )]\n",
      " [(0.  , 0.25) (0.25, 0.25) (0.5 , 0.25) (0.75, 0.25) (1.  , 0.25)]\n",
      " [(0.  , 0.5 ) (0.25, 0.5 ) (0.5 , 0.5 ) (0.75, 0.5 ) (1.  , 0.5 )]\n",
      " [(0.  , 0.75) (0.25, 0.75) (0.5 , 0.75) (0.75, 0.75) (1.  , 0.75)]\n",
      " [(0.  , 1.  ) (0.25, 1.  ) (0.5 , 1.  ) (0.75, 1.  ) (1.  , 1.  )]]\n"
     ]
    }
   ],
   "source": [
    "arr = np.zeros((5,5),[('x',float),('y',float)])\n",
    "arr['x'], arr['y'] = np.meshgrid(np.linspace(0,1,5), np.linspace(0,1,5))\n",
    "print(arr)"
   ]
  },
  {
   "cell_type": "markdown",
   "id": "7d28bcd7",
   "metadata": {},
   "source": [
    "1. np.linspace(start, stop, num) 함수는 start부터 stop까지 num개의 수를 균일한 간격으로 배열을 만듭니다. \n",
    "2. np.meshgrid()는 주어진 배열을 x,y 2D 배열로 반환합니다. "
   ]
  },
  {
   "cell_type": "markdown",
   "id": "ea656811",
   "metadata": {},
   "source": [
    "47. Given two arrays, X and Y, construct the Cauchy matrix C (Cij =1/(xi - yj)) (★★☆)"
   ]
  },
  {
   "cell_type": "code",
   "execution_count": 25,
   "id": "c56a881f",
   "metadata": {},
   "outputs": [
    {
     "name": "stdout",
     "output_type": "stream",
     "text": [
      "3638.1636371179666\n"
     ]
    }
   ],
   "source": [
    "X = np.arange(8)\n",
    "Y = X+0.5\n",
    "C = 1.0 / np.subtract.outer(X,Y)\n",
    "print(np.linalg.det(C))"
   ]
  },
  {
   "cell_type": "markdown",
   "id": "b4f5bd48",
   "metadata": {},
   "source": [
    "1. Cauchy행렬은 행렬 형태로 표현된 두 벡터의 각 원소들을 서로 나눈 값으로 구성된 행렬입니다. Cauchy 행렬은 행렬 C와 벡터 x, y를 포함하는 행렬이며, C(i, j) = x(i) / y(j) 입니다.\n",
    "2. np.subtract.outer(x,y) 는 주어진 1D 배열 x와y의 원소들간의 차를 구하는 2D배열을 반환합니다.\n",
    "3. np.linalg.det()는 주어진 2D배열의 행렬식을 구하는 함수입니다. 행렬식은 행렬의 크기와 방향성을 나타내는 스칼라 값입니다. 정사각 행렬에 대해서만 정의됩니다. 행렬식이 0이면 해당 행렬은 역행렬이 존재하지 않습니다."
   ]
  },
  {
   "cell_type": "markdown",
   "id": "435eac48",
   "metadata": {},
   "source": [
    "48. Print the minimum and maximum representable value for each numpy scalar type (★★☆)"
   ]
  },
  {
   "cell_type": "code",
   "execution_count": 26,
   "id": "b3a4418f",
   "metadata": {},
   "outputs": [
    {
     "name": "stdout",
     "output_type": "stream",
     "text": [
      "-128\n",
      "127\n",
      "-2147483648\n",
      "2147483647\n",
      "-9223372036854775808\n",
      "9223372036854775807\n",
      "-3.4028235e+38\n",
      "3.4028235e+38\n",
      "1.1920929e-07\n",
      "-1.7976931348623157e+308\n",
      "1.7976931348623157e+308\n",
      "2.220446049250313e-16\n"
     ]
    }
   ],
   "source": [
    "for dtype in [np.int8, np.int32, np.int64]:\n",
    "    print(np.iinfo(dtype).min)\n",
    "    print(np.iinfo(dtype).max)\n",
    "for dtype in [np.float32, np.float64]:\n",
    "    print(np.finfo(dtype).min)\n",
    "    print(np.finfo(dtype).max)\n",
    "    print(np.finfo(dtype).eps)"
   ]
  },
  {
   "cell_type": "markdown",
   "id": "89135992",
   "metadata": {},
   "source": [
    "1. np.iinfo()는 정수 타입의 정보를 제공하며, np.finfo()는 부동 소수점 타입의 정보를 제공합니다. \n",
    "2. NumPy는 다음과 같은 스칼라 유형을 제공합니다.\n",
    "\n",
    "    bool: 표현 가능한 최소값(False), 최대값(True)\n",
    "    \n",
    "    int: int8, int16, int32, int64. 표현 가능한 최소값과 최대값은 각각, -(2^(n-1)) ~ 2^(n-1) - 1 \n",
    "    \n",
    "    uint: uint8, uint16, uint32, uint64. 표현 가능한 최소값(0), 최대값(2^n - 1) \n",
    "    \n",
    "    float: float16, float32, float64. 표현 가능한 최소값과 최대값은 각각, -(2^(n-1)) ~ 2^(n-1) - 1 /"
   ]
  },
  {
   "cell_type": "markdown",
   "id": "21adff64",
   "metadata": {},
   "source": [
    "49. How to print all the values of an array? (★★☆)"
   ]
  },
  {
   "cell_type": "code",
   "execution_count": 27,
   "id": "58efe91b",
   "metadata": {},
   "outputs": [
    {
     "name": "stdout",
     "output_type": "stream",
     "text": [
      "[[0. 0. 0. 0. 0. 0. 0. 0.]\n",
      " [0. 0. 0. 0. 0. 0. 0. 0.]\n",
      " [0. 0. 0. 0. 0. 0. 0. 0.]\n",
      " [0. 0. 0. 0. 0. 0. 0. 0.]\n",
      " [0. 0. 0. 0. 0. 0. 0. 0.]\n",
      " [0. 0. 0. 0. 0. 0. 0. 0.]\n",
      " [0. 0. 0. 0. 0. 0. 0. 0.]\n",
      " [0. 0. 0. 0. 0. 0. 0. 0.]]\n"
     ]
    }
   ],
   "source": [
    "np.set_printoptions(threshold=float(\"inf\"))\n",
    "arr = np.zeros((8,8))\n",
    "print(arr)"
   ]
  },
  {
   "cell_type": "markdown",
   "id": "45554466",
   "metadata": {},
   "source": [
    "1. np.set_printoptions() 함수를 사용하면 출력하는 배열의 출력 옵션을 조정할 수 있습니다. \n",
    "2. np.set_printoptions(threshold=float(\"inf\"))는 threshold를 무한대로 설정하여 모든 배열을 출력하도록 합니다."
   ]
  },
  {
   "cell_type": "markdown",
   "id": "0f6fcd75",
   "metadata": {},
   "source": [
    "50. How to find the closest value (to a given scalar) in a vector? (★★☆)"
   ]
  },
  {
   "cell_type": "code",
   "execution_count": 43,
   "id": "57dbe965",
   "metadata": {},
   "outputs": [
    {
     "name": "stdout",
     "output_type": "stream",
     "text": [
      "28\n"
     ]
    }
   ],
   "source": [
    "arr = np.arange(100)\n",
    "v = np.random.uniform(0,100)\n",
    "index = (np.abs(arr-v)).argmin()\n",
    "print(arr[index])"
   ]
  },
  {
   "cell_type": "markdown",
   "id": "2b72d905",
   "metadata": {},
   "source": [
    "1. np.abs()는 절대값을 계산해줍니다. \n",
    "2. numpy.argmin()는 배열에서 최소값의 인덱스를 반환해줍니다."
   ]
  },
  {
   "cell_type": "markdown",
   "id": "66f21d90",
   "metadata": {},
   "source": [
    "51. Create a structured array representing a position (x,y) and a color (r,g,b) (★★☆) *"
   ]
  },
  {
   "cell_type": "code",
   "execution_count": 44,
   "id": "8beaebbe",
   "metadata": {},
   "outputs": [
    {
     "name": "stdout",
     "output_type": "stream",
     "text": [
      "[((0., 0.), (0., 0., 0.)) ((0., 0.), (0., 0., 0.))\n",
      " ((0., 0.), (0., 0., 0.)) ((0., 0.), (0., 0., 0.))\n",
      " ((0., 0.), (0., 0., 0.)) ((0., 0.), (0., 0., 0.))\n",
      " ((0., 0.), (0., 0., 0.)) ((0., 0.), (0., 0., 0.))\n",
      " ((0., 0.), (0., 0., 0.)) ((0., 0.), (0., 0., 0.))]\n"
     ]
    },
    {
     "name": "stderr",
     "output_type": "stream",
     "text": [
      "C:\\Users\\user\\AppData\\Local\\Temp\\ipykernel_18544\\4290018651.py:1: FutureWarning: Passing (type, 1) or '1type' as a synonym of type is deprecated; in a future version of numpy, it will be understood as (type, (1,)) / '(1,)type'.\n",
      "  arr = np.zeros(10, [('position', [('x', float,1),('y', float,1)]), ('color', [('r', float,1),('g', float,1),('b', float,1)])])\n"
     ]
    }
   ],
   "source": [
    "arr = np.zeros(10, [('position', [('x', float,1),('y', float,1)]), ('color', [('r', float,1),('g', float,1),('b', float,1)])])\n",
    "print(arr)"
   ]
  },
  {
   "cell_type": "code",
   "execution_count": 46,
   "id": "b6aea3d1",
   "metadata": {},
   "outputs": [
    {
     "name": "stdout",
     "output_type": "stream",
     "text": [
      "[(1., 2., 3, 4,  5) (6., 7., 8, 9, 10)]\n"
     ]
    }
   ],
   "source": [
    "# This is created by openAI chatbot \n",
    "import numpy as np\n",
    "\n",
    "# 구조체 타입 정의\n",
    "dtype = np.dtype([('x', np.float32), ('y', np.float32),\n",
    "                  ('r', np.uint8), ('g', np.uint8), ('b', np.uint8)])\n",
    "\n",
    "# 구조체 배열 생성\n",
    "points = np.array([(1, 2, 3, 4, 5), (6, 7, 8, 9, 10)], dtype=dtype)\n",
    "\n",
    "print(points)\n"
   ]
  },
  {
   "cell_type": "markdown",
   "id": "9ea9c091",
   "metadata": {},
   "source": [
    "52. Consider a random vector with shape (100,2) representing coordinates, find point by point distances (★★☆)"
   ]
  },
  {
   "cell_type": "code",
   "execution_count": null,
   "id": "0ef5800c",
   "metadata": {},
   "outputs": [],
   "source": []
  },
  {
   "cell_type": "markdown",
   "id": "0e7cf48a",
   "metadata": {},
   "source": [
    "53. How to convert a float (32 bits) array into an integer (32 bits) in place?"
   ]
  },
  {
   "cell_type": "code",
   "execution_count": 54,
   "id": "861a0a19",
   "metadata": {},
   "outputs": [
    {
     "name": "stdout",
     "output_type": "stream",
     "text": [
      "[54 65  3 60 78 48 59 45 53 30]\n"
     ]
    }
   ],
   "source": [
    "arr = (np.random.rand(10)*100).astype(np.float32)\n",
    "Y = arr.view(np.int32)\n",
    "Y[:] = arr\n",
    "print(Y)"
   ]
  },
  {
   "cell_type": "markdown",
   "id": "9e69e5c4",
   "metadata": {},
   "source": [
    "1. arr.view()는 넘파이 배열을 특정 타입으로 변화하는 함수입니다. 이 함수는 원본 배열과 메모리를 공유하는 특성이 있으므로, view에 대한 변경은 원본 배열에도 영향을 줄 수 있습니다."
   ]
  },
  {
   "cell_type": "markdown",
   "id": "db4d953b",
   "metadata": {},
   "source": [
    "54. How to read the following file? (★★☆)"
   ]
  },
  {
   "cell_type": "code",
   "execution_count": 57,
   "id": "7d68a11d",
   "metadata": {},
   "outputs": [
    {
     "name": "stdout",
     "output_type": "stream",
     "text": [
      "[[ 1  2  3  4  5]\n",
      " [ 6 -1 -1  7  8]\n",
      " [-1 -1  9 10 11]]\n"
     ]
    },
    {
     "name": "stderr",
     "output_type": "stream",
     "text": [
      "C:\\Users\\user\\AppData\\Local\\Temp\\ipykernel_18544\\263650874.py:7: DeprecationWarning: `np.int` is a deprecated alias for the builtin `int`. To silence this warning, use `int` by itself. Doing this will not modify any behavior and is safe. When replacing `np.int`, you may wish to use e.g. `np.int64` or `np.int32` to specify the precision. If you wish to review your current use, check the release note link for additional information.\n",
      "Deprecated in NumPy 1.20; for more details and guidance: https://numpy.org/devdocs/release/1.20.0-notes.html#deprecations\n",
      "  arr = np.genfromtxt(s, delimiter=',', dtype=np.int)\n"
     ]
    }
   ],
   "source": [
    "from io import StringIO\n",
    "s = StringIO('''1, 2, 3, 4, 5\n",
    "                6,  ,  , 7, 8\n",
    "                 ,  , 9,10,11\n",
    "''')\n",
    "\n",
    "arr = np.genfromtxt(s, delimiter=',', dtype=np.int)\n",
    "print(arr)"
   ]
  },
  {
   "cell_type": "markdown",
   "id": "34679c4e",
   "metadata": {},
   "source": [
    "1. np.genfromtxt() 함수는 텍스트 파일에서 데이터를 읽어 Numpy 배열로 변환하는 함수입니다. 이 함수는 텍스트 파일에서 데이터를 읽어 변환하며, 구분자(delimiter), 행 제목(header), 누락된 값 등을 지정할 수 있습니다.\n",
    "2. StringIO는 파일을 읽고 쓰듯이 문자열도 읽고 쓰도록 해주는 클래스 입니다."
   ]
  },
  {
   "cell_type": "markdown",
   "id": "b5cee37b",
   "metadata": {},
   "source": [
    "55. What is the equivalent of enumerate for numpy arrays? (★★☆)"
   ]
  },
  {
   "cell_type": "code",
   "execution_count": 59,
   "id": "7327e411",
   "metadata": {},
   "outputs": [
    {
     "name": "stdout",
     "output_type": "stream",
     "text": [
      "(0, 0) 0\n",
      "(0, 1) 1\n",
      "(0, 2) 2\n",
      "(1, 0) 3\n",
      "(1, 1) 4\n",
      "(1, 2) 5\n",
      "(2, 0) 6\n",
      "(2, 1) 7\n",
      "(2, 2) 8\n",
      "(0, 0) 0\n",
      "(0, 1) 1\n",
      "(0, 2) 2\n",
      "(1, 0) 3\n",
      "(1, 1) 4\n",
      "(1, 2) 5\n",
      "(2, 0) 6\n",
      "(2, 1) 7\n",
      "(2, 2) 8\n"
     ]
    }
   ],
   "source": [
    "arr = np.arange(9).reshape(3,3)\n",
    "for index, value in np.ndenumerate(arr):\n",
    "    print(index, value)\n",
    "for index in np.ndindex(arr.shape):\n",
    "    print(index, arr[index])"
   ]
  },
  {
   "cell_type": "markdown",
   "id": "3ba2a5c5",
   "metadata": {},
   "source": [
    "1. np.ndenumerate() 함수는 다차원 배열에서 인덱스와 그 인덱스에 해당하는 값을 함께 반환해주는 함수입니다.\n",
    "2. np.ndindex() 함수는 N-dimensional 인덱스를 생성하는데 사용됩니다. 이 함수를 사용하면 N-dimensional 배열에서 각 요소에 대한 인덱스를 반복하면서 접근 할 수 있습니다."
   ]
  },
  {
   "cell_type": "markdown",
   "id": "80962597",
   "metadata": {},
   "source": [
    "56. Generate a generic 2D Gaussian-like array (★★☆) *"
   ]
  },
  {
   "cell_type": "code",
   "execution_count": 60,
   "id": "018bbb6e",
   "metadata": {},
   "outputs": [
    {
     "name": "stdout",
     "output_type": "stream",
     "text": [
      "[[ 0.92420745 -0.42165904 -1.1846943 ]\n",
      " [ 0.27574227 -0.78763812 -0.24582559]\n",
      " [-2.05952084  2.15841334 -1.13592114]]\n"
     ]
    }
   ],
   "source": [
    "# This code is created by openAI chat bot\n",
    "import numpy as np\n",
    "\n",
    "mean = 0\n",
    "std = 1\n",
    "size = (3,3)\n",
    "gaussian_array = np.random.normal(mean, std, size)\n",
    "print(gaussian_array)"
   ]
  },
  {
   "cell_type": "markdown",
   "id": "74bdf4eb",
   "metadata": {},
   "source": [
    "1. 가우시안 배열이란 가우시안 확률 분포를 따르는 랜덤 값으로 구성된 배열입니다. 가우시안 분포는 평균과 표준편차를 파라미터로 갖는 정규분포를 말합니다. Numpy에서는 numpy.random.normal(mean, std, size) 함수를 사용하여 가우시안 배열을 만들 수 있습니다. "
   ]
  },
  {
   "cell_type": "markdown",
   "id": "f10ad9bd",
   "metadata": {},
   "source": [
    "57. How to randomly place p elements in a 2D array? (★★☆)"
   ]
  },
  {
   "cell_type": "code",
   "execution_count": 63,
   "id": "85b4481f",
   "metadata": {},
   "outputs": [
    {
     "name": "stdout",
     "output_type": "stream",
     "text": [
      "[[0. 0. 0. 0. 0. 0. 1. 0. 0. 0.]\n",
      " [0. 0. 1. 0. 0. 0. 0. 0. 0. 0.]\n",
      " [0. 0. 0. 0. 0. 0. 0. 0. 0. 0.]\n",
      " [0. 0. 0. 0. 0. 0. 0. 0. 0. 0.]\n",
      " [0. 0. 0. 0. 0. 0. 0. 0. 0. 0.]\n",
      " [0. 0. 0. 0. 0. 0. 0. 0. 0. 0.]\n",
      " [0. 0. 0. 0. 0. 0. 0. 0. 0. 1.]\n",
      " [0. 0. 0. 0. 0. 0. 0. 0. 0. 0.]\n",
      " [0. 0. 0. 0. 0. 0. 0. 0. 0. 0.]\n",
      " [0. 0. 0. 0. 0. 0. 0. 0. 0. 0.]]\n"
     ]
    }
   ],
   "source": [
    "n = 10\n",
    "p = 3\n",
    "arr = np.zeros((n,n))\n",
    "np.put(arr, np.random.choice(range(n*n), p, replace=False),1)\n",
    "print(arr)"
   ]
  },
  {
   "cell_type": "markdown",
   "id": "e133a04d",
   "metadata": {},
   "source": [
    "np.put() 함수는 numpy 배열의 특정 인덱스에 값을 지정하는 함수입니다.\n",
    "\n",
    "np.put(arr, indices, values)\n",
    "\n",
    "arr : 값을 지정할 배열\n",
    "indices : 지정할 인덱스\n",
    "values : 지정할 값\n",
    "\n",
    "np.random.choice(range(n*n), p, replace=False)는 nxn 크기의 범위를 갖는 0부터 n*n-1까지의 숫자들 중에서 p 개수만큼의 숫자를 랜덤하게 선택하며, 선택된 숫자들은 중복되지 않도록 합니다.\n",
    "\n",
    "range(nn) : nn 크기의 범위를 갖는 0부터 n*n-1까지의 숫자들\n",
    "\n",
    "p : 선택될 숫자의 개수\n",
    "\n",
    "replace=False : 선택된 숫자들이 중복되지 않도록 합니다."
   ]
  },
  {
   "cell_type": "markdown",
   "id": "2b6fa8c2",
   "metadata": {},
   "source": [
    "58. Subtract the mean of each row of a matrix (★★☆)"
   ]
  },
  {
   "cell_type": "code",
   "execution_count": 66,
   "id": "193ad7df",
   "metadata": {},
   "outputs": [
    {
     "name": "stdout",
     "output_type": "stream",
     "text": [
      "[[-0.41098415 -0.21332866  0.1772788  -0.51565092  0.21421124  0.24482109\n",
      "   0.13562389 -0.2429269   0.39556249  0.21539313]\n",
      " [ 0.38516246 -0.04050371  0.06816377  0.00783639  0.11441969  0.12938594\n",
      "  -0.58384474  0.17844653  0.18588655 -0.44495289]\n",
      " [ 0.12039385  0.1278734  -0.43950266  0.39452119 -0.35039916  0.24730801\n",
      "  -0.31048891  0.30348812  0.00589866 -0.09909249]\n",
      " [ 0.38519306 -0.39217035  0.25219671  0.14481527 -0.47026754  0.198558\n",
      "   0.33452159 -0.00743072  0.06238171 -0.50779774]\n",
      " [ 0.28407421 -0.06197993  0.23197958  0.1469933  -0.38967439 -0.42122025\n",
      "  -0.48282373  0.21319907  0.2189486   0.26050354]]\n"
     ]
    }
   ],
   "source": [
    "X = np.random.rand(5,10)\n",
    "Y = X - X.mean(axis=1, keepdims=True)\n",
    "print(Y)"
   ]
  },
  {
   "cell_type": "markdown",
   "id": "9df39438",
   "metadata": {},
   "source": [
    "np.mean(axis=1)을 사용하여 각 행에 대한 평균을 구합니다.\n",
    "\n",
    "X.mean(axis=1, keepdims=True)는 X 행렬의 각 행에 대한 평균을 구하는 것입니다.\n",
    "axis=1 은 행 방향으로 평균을 구하는 것을 의미하며, keepdims=True는 결과 행렬의 차원을 원래와 동일하게 유지하도록 합니다. 즉, 각 행의 평균이 하나의 원소로 나타나는 행렬을 반환합니다."
   ]
  },
  {
   "cell_type": "markdown",
   "id": "9abcbcc9",
   "metadata": {},
   "source": [
    "59. How to sort an array by the nth column? (★★☆)"
   ]
  },
  {
   "cell_type": "code",
   "execution_count": 25,
   "id": "948049af",
   "metadata": {},
   "outputs": [
    {
     "name": "stdout",
     "output_type": "stream",
     "text": [
      "[[8 6 0]\n",
      " [8 8 2]\n",
      " [7 1 3]]\n",
      "[[7 1 3]\n",
      " [8 6 0]\n",
      " [8 8 2]]\n"
     ]
    }
   ],
   "source": [
    "arr = np.random.randint(0,10,(3,3))\n",
    "print(arr)\n",
    "print(arr[arr[:,1].argsort()])"
   ]
  },
  {
   "cell_type": "markdown",
   "id": "4f8bf4f6",
   "metadata": {},
   "source": [
    "argsort() 함수는 각 원소들의 인덱스를 정렬한 결과를 반환하는 함수입니다. arr[:,1]의 모든 첫번째 열을 선택하여 그 열을 기준으로 sorting하여 반환하게 됩니다."
   ]
  },
  {
   "cell_type": "markdown",
   "id": "52a09d56",
   "metadata": {},
   "source": [
    "60. How to tell if a given 2D array has null columns? (★★☆)"
   ]
  },
  {
   "cell_type": "code",
   "execution_count": 42,
   "id": "bcc70058",
   "metadata": {},
   "outputs": [
    {
     "name": "stdout",
     "output_type": "stream",
     "text": [
      "False\n"
     ]
    }
   ],
   "source": [
    "arr = np.random.randint(0,3,(3,10))\n",
    "print((~arr.any(axis=0)).any())"
   ]
  },
  {
   "cell_type": "markdown",
   "id": "0f642b22",
   "metadata": {},
   "source": [
    "(~arr.any(axis=0))은 arr 배열의 각 열에 값이 있는지 없는지에 대해 불리언 값을 반환합니다.\n",
    "\n",
    ".any()를 붙이게 되면 그 불리언 배열에 하나라도 True가 있는지 없는지를 확인하는데, 이 경우에는 True가 있다면 그 행에는 최소 하나의 Null값이 있다는 뜻이고 False라면 그 행에는 Null값이 없다는 뜻입니다."
   ]
  },
  {
   "cell_type": "markdown",
   "id": "ce398c74",
   "metadata": {},
   "source": [
    " 61. Find the nearest value from a given value in an array (★★☆)"
   ]
  },
  {
   "cell_type": "code",
   "execution_count": 47,
   "id": "6c12b8b8",
   "metadata": {},
   "outputs": [
    {
     "name": "stdout",
     "output_type": "stream",
     "text": [
      "0.509551434074172\n"
     ]
    }
   ],
   "source": [
    "Z = np.random.uniform(0,1,10)\n",
    "z = 0.5\n",
    "m = Z.flat[np.abs(Z - z).argmin()]\n",
    "print(m)"
   ]
  },
  {
   "cell_type": "markdown",
   "id": "f7c4301a",
   "metadata": {},
   "source": [
    ".flat은 배열을 1차원으로 펼칩니다. np.abs(Z - z)는 Z와 z의 차이를 절대값으로 반환합니다. \n",
    "\n",
    "argmin()은 최솟값의 인덱스를 반환합니다. \n",
    "\n",
    "그래서 Z.flat[np.abs(Z - z).argmin()]는 Z배열에서 z와 차이가 가장 작은 값을 가진 요소를 반환합니다."
   ]
  },
  {
   "cell_type": "markdown",
   "id": "9eab1927",
   "metadata": {},
   "source": [
    "62. Considering two arrays with shape (1,3) and (3,1), how to compute their sum using an iterator? (★★☆)"
   ]
  },
  {
   "cell_type": "code",
   "execution_count": 62,
   "id": "57ce87ff",
   "metadata": {},
   "outputs": [
    {
     "name": "stdout",
     "output_type": "stream",
     "text": [
      "[[0 1 2]\n",
      " [1 2 3]\n",
      " [2 3 4]]\n"
     ]
    }
   ],
   "source": [
    "arr1 = np.arange(3).reshape(3,1)\n",
    "arr2 = np.arange(3).reshape(1,3)\n",
    "it = np.nditer([arr1,arr2,None])\n",
    "for x,y,z in it:\n",
    "    z[...] = x+y\n",
    "print(it.operands[2])"
   ]
  },
  {
   "cell_type": "markdown",
   "id": "ae8c9875",
   "metadata": {},
   "source": [
    "np.nditer 함수는 numpy의 다차원 배열을 순회할 수 있는 iterator를 만들어줍니다.\n",
    "\n"
   ]
  },
  {
   "cell_type": "markdown",
   "id": "8118f15d",
   "metadata": {},
   "source": [
    "63. Create an array class that has a name attribute (★★☆) *"
   ]
  },
  {
   "cell_type": "code",
   "execution_count": null,
   "id": "bf77940e",
   "metadata": {},
   "outputs": [],
   "source": []
  }
 ],
 "metadata": {
  "kernelspec": {
   "display_name": "Python 3 (ipykernel)",
   "language": "python",
   "name": "python3"
  },
  "language_info": {
   "codemirror_mode": {
    "name": "ipython",
    "version": 3
   },
   "file_extension": ".py",
   "mimetype": "text/x-python",
   "name": "python",
   "nbconvert_exporter": "python",
   "pygments_lexer": "ipython3",
   "version": "3.9.13"
  }
 },
 "nbformat": 4,
 "nbformat_minor": 5
}
